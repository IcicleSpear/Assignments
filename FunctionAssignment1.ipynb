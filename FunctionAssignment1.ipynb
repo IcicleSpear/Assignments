{
 "cells": [
  {
   "cell_type": "markdown",
   "id": "a811ab75-2882-45e5-93f4-21578dd899b2",
   "metadata": {},
   "source": [
    "# Q1. Which keyword is used to create a function? Create a function to return a list of odd numbers in the range of 1 to 25"
   ]
  },
  {
   "cell_type": "markdown",
   "id": "2de4f182-f59a-4639-8804-beb20568f1f9",
   "metadata": {},
   "source": [
    "def is the keyword used to create a function"
   ]
  },
  {
   "cell_type": "code",
   "execution_count": 1,
   "id": "b9f0935d-bc43-4386-a0fd-930a756ac634",
   "metadata": {},
   "outputs": [
    {
     "name": "stdout",
     "output_type": "stream",
     "text": [
      "[1, 3, 5, 7, 9, 11, 13, 15, 17, 19, 21, 23, 25]\n"
     ]
    }
   ],
   "source": [
    "def odd():\n",
    "    oddno=[]\n",
    "    for i in range(1,26):\n",
    "        if i%2!=0:\n",
    "            oddno.append(i)\n",
    "    return oddno\n",
    "print(odd())"
   ]
  },
  {
   "cell_type": "markdown",
   "id": "e9cca94c-570d-4655-b61b-b30d9010f805",
   "metadata": {},
   "source": [
    "# Q2. Why *args and **kwargs is used in some functions? Create a function each for *args and **kwargs to demonstrate their use."
   ]
  },
  {
   "cell_type": "code",
   "execution_count": 4,
   "id": "b6fe9819-02ba-4eb0-9c65-0ac0864c08f5",
   "metadata": {},
   "outputs": [
    {
     "data": {
      "text/plain": [
       "120"
      ]
     },
     "execution_count": 4,
     "metadata": {},
     "output_type": "execute_result"
    }
   ],
   "source": [
    "\"\"\"*args and **kwargs are used to pass a variable number of arguments to a function.\n",
    "*args is used to pass a non-keyworded, variable-length argument list to a function. \n",
    "The syntax is to use an asterisk (*) before the argument name in the function definition. \n",
    "This allows the function to accept an arbitrary number of arguments, which will be passed as a tuple.\"\"\" \n",
    "\n",
    "def multiply(*args):\n",
    "    product=1\n",
    "    for i in args:\n",
    "        product=product*i\n",
    "    return product\n",
    "multiply(1,2,3,4,5)"
   ]
  },
  {
   "cell_type": "code",
   "execution_count": 8,
   "id": "f7c32e5e-66ac-436f-9eda-9560e0e02a6a",
   "metadata": {},
   "outputs": [
    {
     "data": {
      "text/plain": [
       "('c', [1, 2, 3, 4])"
      ]
     },
     "execution_count": 8,
     "metadata": {},
     "output_type": "execute_result"
    }
   ],
   "source": [
    "\"\"\"**kwargs is used to pass keyworded, variable-length argument list to a function. \n",
    "The syntax is to use two asterisks (**) before the argument name in the function definition. \n",
    "This allows the function to accept an arbitrary number of keyword arguments, which will be passed as a dictionary.\"\"\"\n",
    "def display1(**kargs):\n",
    "    for i in kargs.keys():\n",
    "        if type(kargs[i])==list:\n",
    "            return i,kargs[i]\n",
    "        elif type(kargs[i])==tuple:\n",
    "            return i,kargs[i]\n",
    "        \n",
    "display1(a=1,b=2,c=[1,2,3,4],d=(\"abhi\",\"shek\"))"
   ]
  },
  {
   "cell_type": "markdown",
   "id": "ab2fde1a-ec90-457e-90bd-89494d03ff5b",
   "metadata": {},
   "source": [
    "# Q3.  What is an iterator in python? Name the method used to initialise the iterator object and the method used for iteration. Use these methods to print the first five elements of the given list [2, 4, 6, 8, 10, 12, 14, 16, 18, 20]"
   ]
  },
  {
   "cell_type": "code",
   "execution_count": 13,
   "id": "906768ca-0933-4768-9785-d19498c007e1",
   "metadata": {},
   "outputs": [
    {
     "name": "stdout",
     "output_type": "stream",
     "text": [
      "2\n",
      "4\n",
      "6\n",
      "8\n",
      "10\n"
     ]
    }
   ],
   "source": [
    "#In Python, an iterator is an object that allows you to loop through a collection of elements, such as a list, tuple, or dictionary, one at a time, without having to know the underlying details of the collection's implementation. It provides a common interface for iterating over different types of data structures.\n",
    "list=[2,4,6,8,10,12,14,16,18,20]\n",
    "itet=iter(list)\n",
    "for i in range(5):\n",
    "    print(next(itet))\n"
   ]
  },
  {
   "cell_type": "markdown",
   "id": "dff8c0de-fba1-4526-bb61-b650bf46e60c",
   "metadata": {},
   "source": [
    "# Q4.  What is a generator function in python? Why yield keyword is used? Give an example of a generator function."
   ]
  },
  {
   "cell_type": "code",
   "execution_count": 15,
   "id": "2416272e-a696-4e3b-9a03-38157d857b54",
   "metadata": {},
   "outputs": [
    {
     "name": "stdin",
     "output_type": "stream",
     "text": [
      " 7\n"
     ]
    },
    {
     "name": "stdout",
     "output_type": "stream",
     "text": [
      "0\n",
      "1\n",
      "4\n",
      "9\n",
      "16\n",
      "25\n",
      "36\n"
     ]
    }
   ],
   "source": [
    "\"\"\"A generator function in python is a special type of function that returns a generator object instead of a single value. \n",
    "The generator functionyields its values one at a time, allowing the caller to resume from where it left off. \n",
    "This feature makes generator functions memory efficient, as they generate values on-the-fly instead of storing all the values in memory.\"\"\"\n",
    "\n",
    "def generator_function(n):\n",
    "    for i in range(n):\n",
    "        yield i*i\n",
    "        \n",
    "n=int(input())\n",
    "for i in generator_function(n):\n",
    "    print(i)"
   ]
  },
  {
   "cell_type": "markdown",
   "id": "d0011990-82b5-42c6-84fd-d2c5fc353cba",
   "metadata": {},
   "source": [
    "# Q5. Create a generator function for prime numbers less than 1000. Use the next() method to print the first 20 prime numbers."
   ]
  },
  {
   "cell_type": "code",
   "execution_count": 25,
   "id": "30bc541a-638f-4252-891d-14d854631157",
   "metadata": {},
   "outputs": [
    {
     "name": "stdout",
     "output_type": "stream",
     "text": [
      "2\n",
      "3\n",
      "5\n",
      "7\n",
      "11\n",
      "13\n",
      "17\n",
      "19\n",
      "23\n",
      "29\n",
      "31\n",
      "37\n",
      "41\n",
      "43\n",
      "47\n",
      "53\n",
      "59\n",
      "61\n",
      "67\n",
      "71\n"
     ]
    }
   ],
   "source": [
    "def prime_numbers_gen(limit):\n",
    "    primes = []\n",
    "    for num in range(2, limit):\n",
    "        for prime in primes:\n",
    "            if num % prime == 0:\n",
    "                break\n",
    "        else:\n",
    "            primes.append(num)\n",
    "            yield num\n",
    "\n",
    "gen = prime_numbers_gen(1000)\n",
    "\n",
    "for i in range(20):\n",
    "    print(next(gen))\n"
   ]
  },
  {
   "cell_type": "code",
   "execution_count": null,
   "id": "058ecdd3-1ef1-428a-ace1-167a44200766",
   "metadata": {},
   "outputs": [],
   "source": []
  },
  {
   "cell_type": "code",
   "execution_count": null,
   "id": "c892999f-a6f8-4164-b65d-28025ada72d1",
   "metadata": {},
   "outputs": [],
   "source": []
  }
 ],
 "metadata": {
  "kernelspec": {
   "display_name": "Python 3 (ipykernel)",
   "language": "python",
   "name": "python3"
  },
  "language_info": {
   "codemirror_mode": {
    "name": "ipython",
    "version": 3
   },
   "file_extension": ".py",
   "mimetype": "text/x-python",
   "name": "python",
   "nbconvert_exporter": "python",
   "pygments_lexer": "ipython3",
   "version": "3.10.8"
  }
 },
 "nbformat": 4,
 "nbformat_minor": 5
}
