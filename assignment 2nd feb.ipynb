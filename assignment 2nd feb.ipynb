{
 "cells": [
  {
   "cell_type": "markdown",
   "id": "abe74557-2e30-444a-b900-91e0edc5103d",
   "metadata": {},
   "source": [
    "# Q1. What are the characteristics of the tuples? Is tuple immutable?"
   ]
  },
  {
   "cell_type": "markdown",
   "id": "d251b4b1-e516-4cda-a28c-1e26b3994bf2",
   "metadata": {},
   "source": [
    "Solution : These tuples are an ordered collection of elements of different data types. Furthermore, we represent them by writing the elements inside the parenthesis separated by commas. We can also define tuples as lists that we cannot change. Therefore, we can call them immutable tuples."
   ]
  },
  {
   "cell_type": "markdown",
   "id": "1fa3e088-930d-49f3-ae7a-f10616869fe3",
   "metadata": {},
   "source": [
    "# Q2. What are the two tuple methods in python? Give an example of each method. Give a reason why \n",
    "tuples have only two in-built methods as compared to Lists."
   ]
  },
  {
   "cell_type": "markdown",
   "id": "e4103eff-805d-4cc4-afdf-842e953de229",
   "metadata": {},
   "source": [
    "Solution : The two types of tuple methods are count() and index() menthods\n",
    "1.count() method:\n",
    "Tuple1 = (0, 1, 2, 3, 2, 3, 1, 3, 2)\n",
    "Tuple2 = ('python', 'geek', 'python','for', 'java', 'python')\n",
    "res = Tuple1.count(3)\n",
    "print('Count of 3 in Tuple1 is:', res)\n",
    "res = Tuple2.count('python')\n",
    "print('Count of Python in Tuple2 is:', res)\n",
    "\n",
    "2.index() methid:\n",
    "Tuple = (0, 1, 2, 3, 2, 3, 1, 3, 2)\n",
    "res = Tuple.index(3)\n",
    "print('First occurrence of 3 is', res)\n",
    "res = Tuple.index(3, 4)\n",
    "print('First occurrence of 3 after 4th index is:', res)\n",
    "\n",
    "Lists have several built-in methods. A unexpected change or error is more likely to occur in a list. In a tuple, changes and errors don't usually occur because of immutability."
   ]
  },
  {
   "cell_type": "markdown",
   "id": "becc62e0-3f53-4b7f-8088-636b2d8fb081",
   "metadata": {},
   "source": [
    "# Q3. Which collection datatypes in python do not allow duplicate items? Write a code using a set to remove \n",
    "duplicates from the given list.\n",
    "\n",
    "List = [1, 1, 1, 2, 1, 3, 1, 4, 2, 1, 2, 2, 2, 3, 2, 4, 3, 1, 3, 2, 3, 3, 3, 4, 4, 1, 4, 2, 4, 3, 4, 4]"
   ]
  },
  {
   "cell_type": "code",
   "execution_count": 2,
   "id": "86d8d750-4d1d-4a57-9791-beeaa63ac710",
   "metadata": {},
   "outputs": [
    {
     "name": "stdout",
     "output_type": "stream",
     "text": [
      "{1, 2, 3, 4}\n"
     ]
    }
   ],
   "source": [
    "# A set is unique in Python. It does not allow duplicates.\n",
    "list={1, 1, 1, 2, 1, 3, 1, 4, 2, 1, 2, 2, 2, 3, 2, 4, 3, 1, 3, 2, 3, 3, 3, 4, 4, 1, 4, 2, 4, 3, 4, 4}\n",
    "print(list)"
   ]
  },
  {
   "cell_type": "markdown",
   "id": "8143a603-275b-4de8-a435-330997b1a0ea",
   "metadata": {},
   "source": [
    "# Q4.Explain the difference between the union() and update() methods for a set. Give an example of \n",
    "each method."
   ]
  },
  {
   "cell_type": "markdown",
   "id": "e184998c-057b-43cf-ba3c-792b7598bdb6",
   "metadata": {},
   "source": [
    "## union():\n",
    "This method is used to return the union of a set and the set of elements from one or more iterable like string, list, set. This method takes arbitrary number of iterable objects as argument, which means one or more iterable can be passed. If iterable other than set is passed, it first converts the iterable object to set object and then perform the union operation. It returns a newly created set, which contains all the elements ( distinct ) present in all the iterables.\n",
    "eg: \n",
    "   s.union(t)  s | t   new set with elements from both s and t\n",
    "## update():\n",
    "This method is used to return the union of a set and the set of elements from one or more iterable like string, list, set. It is very similar to union() method, with difference is that where union() method create and return a new set, containing all the elements ( distinct ) present in all the iterables, update() method updates the set on which this method is called with all the distinct elements present in all the iterables.\n",
    "eg: \n",
    "   s.update(t) s |= t  return set s with elements added from t"
   ]
  },
  {
   "cell_type": "markdown",
   "id": "26047bf7-302d-4ead-b94b-c70a68894b96",
   "metadata": {},
   "source": [
    "# Q5. What is a dictionary? Give an example. Also, state whether a dictionary is ordered or unordered"
   ]
  },
  {
   "cell_type": "markdown",
   "id": "43abb818-3158-40fb-93c0-c03a1ac776f5",
   "metadata": {},
   "source": [
    "## dictionary:\n",
    "The dictionary is an unordered collection that contains key:value pairs separated by commas inside curly brackets. Dictionaries are optimized to retrieve values when the key is known.\n",
    "As of Python version 3.7, dictionaries are ordered. In Python 3.6 and earlier, dictionaries are unordered.\n"
   ]
  },
  {
   "cell_type": "code",
   "execution_count": 1,
   "id": "65ef81c8-49f3-4747-9184-b96cb659e617",
   "metadata": {},
   "outputs": [
    {
     "name": "stdout",
     "output_type": "stream",
     "text": [
      "<class 'dict'>\n"
     ]
    }
   ],
   "source": [
    "capitals = {\"USA\":\"Washington D.C.\", \"France\":\"Paris\", \"India\":\"New Delhi\"}\n",
    "print(type(capitals)) "
   ]
  },
  {
   "cell_type": "markdown",
   "id": "aaef499c-df36-4533-90f8-0996bcea56e5",
   "metadata": {},
   "source": [
    "# Q6. Can we create a nested dictionary? If so, please give an example by creating a simple one-level \n",
    "nested dictionary."
   ]
  },
  {
   "cell_type": "markdown",
   "id": "ccb0d7c2-f713-4f06-998e-a3a092f990ae",
   "metadata": {},
   "source": [
    "Yes,we can create nested dictionary"
   ]
  },
  {
   "cell_type": "code",
   "execution_count": 2,
   "id": "8060965f-2e9a-43ff-9c7e-30c441773ce2",
   "metadata": {},
   "outputs": [
    {
     "data": {
      "text/plain": [
       "{'monday': 32, 'wednesday': 31.6}"
      ]
     },
     "execution_count": 2,
     "metadata": {},
     "output_type": "execute_result"
    }
   ],
   "source": [
    "#eg:\n",
    "d3={'monday','tuesday','wednesday'}\n",
    "d4={30.2,31.6,32}\n",
    "# Youth icon\n",
    "{i:j for (i,j) in zip(d3,d4) if j>31}"
   ]
  },
  {
   "cell_type": "markdown",
   "id": "389802f8-3f75-4330-a18e-47f61bf188e3",
   "metadata": {},
   "source": [
    "# Q7. Using setdefault() method, create key named topics in the given dictionary and also add the value of the key as this list ['Python', 'Machine Learning’, 'Deep Learning']\n",
    "\n",
    "dict1 = {'language' : 'Python', 'course': 'Data Science Masters'"
   ]
  },
  {
   "cell_type": "code",
   "execution_count": 4,
   "id": "ddbb6e8d-3741-4e0e-a8f3-1be9af8d3125",
   "metadata": {},
   "outputs": [
    {
     "name": "stdout",
     "output_type": "stream",
     "text": [
      "{'language': 'Python', 'course': 'Data Science Masters', 'topics': ['Python', 'Machine Learning', 'Deep Learning']}\n"
     ]
    }
   ],
   "source": [
    "dict1 = {'language': 'Python', 'course': 'Data Science Masters'}\n",
    "\n",
    "# Using setdefault() to create the 'topics' key and set its value to the list\n",
    "dict1.setdefault('topics', ['Python', 'Machine Learning', 'Deep Learning'])\n",
    "\n",
    "print(dict1)\n"
   ]
  },
  {
   "cell_type": "markdown",
   "id": "2fc9913f-8e59-4840-94e2-08347f01ad9f",
   "metadata": {},
   "source": [
    "# Q8. What are the three view objects in dictionaries? Use the three in-built methods in python to display these three view objects for the given dictionary.\n",
    "\n",
    "dict1 = {'Sport': 'Cricket' , 'Teams': ['India', 'Australia', 'England', 'South Africa', 'Sri Lanka', 'New Zealand']}"
   ]
  },
  {
   "cell_type": "markdown",
   "id": "1e41a181-d76e-4ef9-96e9-0c85de398f95",
   "metadata": {},
   "source": [
    "In Python, dictionaries provide three view objects that allow you to access the keys, values, and key-value pairs in the dictionary. These view objects are:\n",
    "dict_keys: This view object represents the keys of the dictionary.\n",
    "dict_values: This view object represents the values of the dictionary.\n",
    "dict_items: This view object represents the key-value pairs (items) of the dictionary."
   ]
  },
  {
   "cell_type": "code",
   "execution_count": 3,
   "id": "5e033707-909b-4f7d-b357-4ebfb2ea0887",
   "metadata": {},
   "outputs": [
    {
     "name": "stdout",
     "output_type": "stream",
     "text": [
      "dict_keys view object: dict_keys(['Sport', 'Teams'])\n",
      "dict_values view object: dict_values(['Cricket', ['India', 'Australia', 'England', 'South Africa', 'Sri Lanka', 'New Zealand']])\n",
      "dict_items view object: dict_items([('Sport', 'Cricket'), ('Teams', ['India', 'Australia', 'England', 'South Africa', 'Sri Lanka', 'New Zealand'])])\n"
     ]
    }
   ],
   "source": [
    "dict1 = {'Sport': 'Cricket', 'Teams': ['India', 'Australia', 'England', 'South Africa', 'Sri Lanka', 'New Zealand']}\n",
    "keys_view = dict1.keys()\n",
    "print(\"dict_keys view object:\", keys_view)\n",
    "values_view = dict1.values()\n",
    "print(\"dict_values view object:\", values_view)\n",
    "items_view = dict1.items()\n",
    "print(\"dict_items view object:\", items_view)\n"
   ]
  }
 ],
 "metadata": {
  "kernelspec": {
   "display_name": "Python 3 (ipykernel)",
   "language": "python",
   "name": "python3"
  },
  "language_info": {
   "codemirror_mode": {
    "name": "ipython",
    "version": 3
   },
   "file_extension": ".py",
   "mimetype": "text/x-python",
   "name": "python",
   "nbconvert_exporter": "python",
   "pygments_lexer": "ipython3",
   "version": "3.10.8"
  }
 },
 "nbformat": 4,
 "nbformat_minor": 5
}
