{
 "cells": [
  {
   "cell_type": "markdown",
   "id": "1b2b6f89-62c2-4910-b2be-655ba5635800",
   "metadata": {},
   "source": [
    "# ASSIGNMENT 30TH JAN"
   ]
  },
  {
   "cell_type": "markdown",
   "id": "514f6986-9782-4b88-867b-ba96d6e03573",
   "metadata": {},
   "source": [
    "### Question1"
   ]
  },
  {
   "cell_type": "code",
   "execution_count": null,
   "id": "2f45dad8-9495-42a3-9d9e-17f0f94ef491",
   "metadata": {},
   "outputs": [],
   "source": [
    "percent=int(input(\"Enter Your Percentage\"))\n",
    "if percent>90:\n",
    "    print(\"You have secured A Grade\")\n",
    "if percent>80 and percent<=90:\n",
    "    print(\"You have secured B Grade\")\n",
    "if percent>=60 and percent<=80:\n",
    "    print(\"You have secured C Grade\")\n",
    "else:\n",
    "    print(\"You have secured D Grade\")"
   ]
  },
  {
   "cell_type": "markdown",
   "id": "84fad10a-466c-40f6-9d76-1059a7322c86",
   "metadata": {},
   "source": [
    "### Question 2:"
   ]
  },
  {
   "cell_type": "code",
   "execution_count": null,
   "id": "25e8c741-0bed-43fb-b627-7f3deb3a2750",
   "metadata": {},
   "outputs": [],
   "source": [
    "price=float(input(\"Enter the cost price of the bike\"))\n",
    "if price>100000:\n",
    "    print(\"You have to pay 15% tax which is {}\".format(price*0.15))\n",
    "elif price>50000 and price<=10000:\n",
    "    print(\"You have to pay 10% tax which is {}\".format(price*0.10))\n",
    "else:\n",
    "    print(\"You have to pay 5% tax which is {}\".format(price*0.05))"
   ]
  },
  {
   "cell_type": "markdown",
   "id": "10f32d11-d0f4-4da4-86d4-1ca35d74daaf",
   "metadata": {},
   "source": [
    "### Question 3:"
   ]
  },
  {
   "cell_type": "code",
   "execution_count": null,
   "id": "259fd43e-8be8-48d3-853c-2d51fb680086",
   "metadata": {},
   "outputs": [],
   "source": [
    "user_input = str(input(\"Please write your City name ?\").capitalize())\n",
    "city = {\"Delhi\" : \"Red fort\", \"Agra\":\"Tajmahal\", \"Jaipur\" : \"Jai Mahal\" }\n",
    "if user_input in city:\n",
    "    print(city[user_input])\n",
    "else:\n",
    "    print(\"city data is not here.\")"
   ]
  },
  {
   "cell_type": "markdown",
   "id": "e833da11-d5d0-44ca-8a2a-8d757d850dd7",
   "metadata": {},
   "source": [
    "### Question 4:"
   ]
  },
  {
   "cell_type": "code",
   "execution_count": null,
   "id": "5fa195ca-617e-481b-920a-3f0cd5b18276",
   "metadata": {},
   "outputs": [],
   "source": [
    "num=int(input(\"Enter the number\"))\n",
    "count=0\n",
    "while num>10:\n",
    "    num=num/3\n",
    "    count+=1\n",
    "print(f\"The number of times before the given number becomes less than 10 on division by 3 is {count}\")"
   ]
  },
  {
   "cell_type": "markdown",
   "id": "785e6c86-c629-4f23-ad1f-d8119725d810",
   "metadata": {},
   "source": [
    "### Question 5:"
   ]
  },
  {
   "cell_type": "code",
   "execution_count": null,
   "id": "288a0b94-4f44-4516-9156-c8c1963cf80f",
   "metadata": {},
   "outputs": [],
   "source": [
    "while_loop = \"\"\"A \"While\" Loop is used to repeat a specific block of code an unknown number of times, until a condition is met. For example, if we want to ask a user for a number between 1 and 10, we don't know how many times the user may enter a larger number, so we keep asking \"while the number is not between 1 and 10\".\"\"\"\n",
    "print(while_loop)"
   ]
  },
  {
   "cell_type": "markdown",
   "id": "50dedc12-c2c0-4859-92b0-1a53cd18fb31",
   "metadata": {},
   "source": [
    "### Question 6:"
   ]
  },
  {
   "cell_type": "code",
   "execution_count": 7,
   "id": "fc25839a-e033-418d-8787-68b318cb70b5",
   "metadata": {},
   "outputs": [
    {
     "name": "stdout",
     "output_type": "stream",
     "text": [
      "Pattern 1\n",
      "1\n",
      "12\n",
      "123\n",
      "1234\n",
      "----------------------------------------------------------------\n",
      "Pattern 2\n",
      "*\n",
      "**\n",
      "***\n",
      "****\n",
      "----------------------------------------------------------------\n",
      "Pattern 3\n",
      "😀😀😆😀😀😆😀😀😆😀😀😆😀😀😆😀😀😆😀😀😆😀😀😆😀😀😆\n",
      "😀😀😆😀😀😆😀😀😆😀😀😆😀😀😆😀😀😆😀😀😆😀😀😆😀😀😆\n",
      "😀😀😆😀😀😆😀😀😆😀😀😆😀😀😆😀😀😆😀😀😆😀😀😆😀😀😆\n",
      "😀😀😆😀😀😆😀😀😆😀😀😆😀😀😆😀😀😆😀😀😆😀😀😆😀😀😆\n",
      "😀😀😆😀😀😆😀😀😆😀😀😆😀😀😆😀😀😆😀😀😆😀😀😆😀😀😆\n",
      "😀😀😆😀😀😆😀😀😆😀😀😆😀😀😆😀😀😆😀😀😆😀😀😆😀😀😆\n",
      "😀😀😆😀😀😆😀😀😆😀😀😆😀😀😆😀😀😆😀😀😆😀😀😆😀😀😆\n",
      "😀😀😆😀😀😆😀😀😆😀😀😆😀😀😆😀😀😆😀😀😆😀😀😆😀😀😆\n",
      "😀😀😆😀😀😆😀😀😆😀😀😆😀😀😆😀😀😆😀😀😆😀😀😆😀😀😆\n"
     ]
    }
   ],
   "source": [
    "#Use nested while loop to print 3 different pattern\n",
    "\n",
    "#pattern 1 \n",
    "print(\"Pattern 1\")\n",
    "#initialize variables \n",
    "i=1\n",
    "j=1\n",
    "#while loop\n",
    "while i<5:\n",
    "    #nested while\n",
    "    while j<=i:\n",
    "        #printed j without space\n",
    "        print(j, end=\"\")\n",
    "        #increment j by 1\n",
    "        j+=1\n",
    "    #print new line\n",
    "    print()\n",
    "    #reset value of j\n",
    "    j=1\n",
    "    #increment value of i by 1\n",
    "    i+=1\n",
    "\n",
    "print(\"----------------------------------------------------------------\")\n",
    "print(\"Pattern 2\")\n",
    "#initialize variables \n",
    "i=1\n",
    "j=1\n",
    "#while loop\n",
    "while i<5:\n",
    "    #nested while\n",
    "    while j<=i:\n",
    "        #printed * without space\n",
    "        print(\"*\", end=\"\")\n",
    "        #increment j by 1\n",
    "        j+=1\n",
    "    #print new line\n",
    "    print()\n",
    "    #reset value of j\n",
    "    j=1\n",
    "    #increment value of i by 1\n",
    "    i+=1\n",
    "\n",
    "print(\"----------------------------------------------------------------\")\n",
    "print(\"Pattern 3\")\n",
    "#initialize variables \n",
    "i=1\n",
    "j=1\n",
    "#while loop\n",
    "while i<10:\n",
    "    #nested while\n",
    "    while j<10:\n",
    "        #printed smile with smile using Unicode associated with it\n",
    "        print(\"\\U0001f600\\U0001f600\", end=\"\\U0001F606\")\n",
    "        #increment j by 1\n",
    "        j+=1\n",
    "    #print new line\n",
    "    print()\n",
    "    #reset value of j\n",
    "    j=1\n",
    "    #increment value of i by 1\n",
    "    i+=1"
   ]
  },
  {
   "cell_type": "markdown",
   "id": "4f387a35-ae77-481f-afa8-2810118ba6c4",
   "metadata": {},
   "source": [
    "### Question 7:"
   ]
  },
  {
   "cell_type": "code",
   "execution_count": null,
   "id": "1efbfef0-dc0f-42eb-9cf7-6c9bd04f12fc",
   "metadata": {},
   "outputs": [],
   "source": [
    "upper=10\n",
    "lower=1\n",
    "while upper>=lower:\n",
    "    print(upper)\n",
    "    upper-=1"
   ]
  },
  {
   "cell_type": "code",
   "execution_count": null,
   "id": "27ba5376-5c64-43f1-8926-dc9341c2a082",
   "metadata": {},
   "outputs": [],
   "source": [
    "upper=10\n",
    "lower=1\n",
    "while upper>=lower:\n",
    "    print(upper)\n",
    "    upper-=1"
   ]
  },
  {
   "cell_type": "code",
   "execution_count": null,
   "id": "37aeacea-1acd-4a5e-8be8-aefa56385426",
   "metadata": {},
   "outputs": [],
   "source": []
  }
 ],
 "metadata": {
  "kernelspec": {
   "display_name": "Python 3 (ipykernel)",
   "language": "python",
   "name": "python3"
  },
  "language_info": {
   "codemirror_mode": {
    "name": "ipython",
    "version": 3
   },
   "file_extension": ".py",
   "mimetype": "text/x-python",
   "name": "python",
   "nbconvert_exporter": "python",
   "pygments_lexer": "ipython3",
   "version": "3.10.8"
  }
 },
 "nbformat": 4,
 "nbformat_minor": 5
}
