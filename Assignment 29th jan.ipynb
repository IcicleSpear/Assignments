{
 "cells": [
  {
   "cell_type": "markdown",
   "id": "b395bc1a-e0d8-4a17-a88f-e6c8a5712983",
   "metadata": {},
   "source": [
    "# ASSIGNMENT 29th JAN"
   ]
  },
  {
   "cell_type": "markdown",
   "id": "2f2f32ea-c242-48c8-ad53-d5737b156723",
   "metadata": {},
   "source": [
    "Question 1:\n",
    "\n",
    "Guido van Rossum began working on Python in the late 1980s as a successor to the ABC programming language and first released it in 1991 as Python 0.9.0.Python 2.0 was released in 2000. Python 3.0, released in 2008, was a major revision not completely backward-compatible with earlier versions. Python 2.7.18, released in 2020, was the last release of Python 2."
   ]
  },
  {
   "cell_type": "markdown",
   "id": "095cfdb9-7a7e-4f35-a6b6-fc1582c93c18",
   "metadata": {},
   "source": [
    "Question 2:\n",
    "\n",
    "Python is a multi-paradigm programming language. Object-oriented programming and structured programming are fully supported, and many of their features support functional programming and aspect-oriented programming (including metaprogramming and metaobjects)."
   ]
  },
  {
   "cell_type": "markdown",
   "id": "ec5f0e07-30a2-4ff3-b6cd-52666326cd70",
   "metadata": {},
   "source": [
    "Question 3:\n",
    "    \n",
    "Yes, Python is a case-sensitive language, i.e., it treats uppercase and lowercase characters differently. This applies to identifiers too. You must avoid using the same name with different cases while naming identifiers."
   ]
  },
  {
   "cell_type": "markdown",
   "id": "ee598811-7433-4a05-a2a8-92cb170f29a6",
   "metadata": {},
   "source": [
    "Question 4:\n",
    "\n",
    "Extensions of Python File are as follows - .py, .pyi, .pyc, .pyd, .pyo, .pyw, and .pyz."
   ]
  },
  {
   "cell_type": "markdown",
   "id": "1ca0fb25-6d57-4cf9-a331-a6813075be86",
   "metadata": {},
   "source": [
    "Question 5:\n",
    "    \n",
    "Python is an interpreted language, which means the source code of a Python program is converted into bytecode that is then executed by the Python virtual machine. Python is different from major compiled languages, such as C and C + +, as Python code is not required to be built and linked like code for these languages."
   ]
  },
  {
   "cell_type": "markdown",
   "id": "72f24675-a916-4e99-852c-37ac5711a58c",
   "metadata": {},
   "source": [
    "Question 6:\n",
    "\n",
    "Indentation is used to define a block of code in python."
   ]
  },
  {
   "cell_type": "markdown",
   "id": "778267d5-b1f3-497d-970c-8216806da340",
   "metadata": {},
   "source": [
    "Question 7:\n",
    "\n",
    "We can write a single-line comment by adding a single # character before any statement or line of code"
   ]
  },
  {
   "cell_type": "markdown",
   "id": "62df0aff-034b-4504-99dc-3e27fa221707",
   "metadata": {},
   "source": [
    "Question 8:\n",
    "\n",
    "sys.version is the function that is used to find the version of python we are working in "
   ]
  },
  {
   "cell_type": "markdown",
   "id": "75198316-d746-4fa2-9e5e-8baa1c916dad",
   "metadata": {},
   "source": [
    "Question 9:\n",
    "    \n",
    "Python supports to make anonymous functions which are not bound to a name(@ runtime). It uses a construct called \"lambda"
   ]
  },
  {
   "cell_type": "markdown",
   "id": "33b26390-cdfd-4da6-875a-dec8bf5820cf",
   "metadata": {},
   "source": [
    "Question 10:\n",
    "\n",
    "Alternatively, pip stands for \"preferred installer program\". Python 2.7. 9 and later (on the python2 series), and Python 3.4 and later include pip (pip3 for Python 3) by default."
   ]
  },
  {
   "cell_type": "markdown",
   "id": "4b8d15b1-568a-4eb4-9b78-3f72a6b1f7bc",
   "metadata": {},
   "source": [
    "Question 11:\n",
    "\n",
    "Python Built-in Functions\n",
    "print( ) function.\n",
    "\n",
    "type( ) function.\n",
    "\n",
    "input( ) function.\n",
    "\n",
    "abs( ) function.\n",
    "\n",
    "pow( ) function.\n",
    "\n",
    "dir( ) function.\n",
    "\n",
    "sorted( ) function.\n",
    "\n",
    "max( ) function."
   ]
  },
  {
   "cell_type": "markdown",
   "id": "7857d7ba-26bc-4a09-a065-0a056f462e6e",
   "metadata": {},
   "source": [
    "Question 12:\n",
    "\n",
    "An identifier can have a maximum length of 79 characters in Python."
   ]
  },
  {
   "cell_type": "markdown",
   "id": "9a9560e7-867c-4b47-abbd-1686996ffccf",
   "metadata": {},
   "source": [
    "Question 13:\n",
    "\n",
    "Python is commonly used for developing websites and software, task automation, data analysis, and data visualization. Since it's relatively easy to learn, Python has been adopted by many non-programmers such as accountants and scientists, for a variety of everyday tasks, like organizing finances."
   ]
  },
  {
   "cell_type": "markdown",
   "id": "d947a837-c8e6-4425-af47-a5f454fc292b",
   "metadata": {},
   "source": [
    "Question 14:\n",
    "\n",
    "Memory management in Python involves a private heap containing all Python objects and data structures. The management of this private heap is ensured internally by the Python memory manager."
   ]
  },
  {
   "cell_type": "markdown",
   "id": "ccf9fdcf-110f-4790-8b4b-fad22333a234",
   "metadata": {},
   "source": [
    "Question 15:\n",
    "\n",
    "Here's how you can install Python on Windows and set the path variables:\n",
    "Download the latest version of Python from the official website (https://www.python.org/downloads/).\n",
    "Run the installer and follow the instructions to install Python on your system.\n",
    "Open the \"Environment Variables\" dialog by typing \"Environment Variables\" into the Windows search bar and clicking on \"Edit the system environment variables.\"\n",
    "Under \"System Variables,\" scroll down and find the \"Path\" variable, then click \"Edit.\"\n",
    "Click \"New\" and add the path to your Python installation. For example, if you installed Python in the default location, the path would be \"C:\\PythonXX,\" where \"XX\" is the version number.\n",
    "Click \"OK\" to close all the dialog boxes.\n",
    "Open a new command prompt and type \"python\" to confirm that the installation was successful and that the path variables are set correctly.\n",
    "Note: It may need to restart any open command prompts for the changes to take effect"
   ]
  },
  {
   "cell_type": "markdown",
   "id": "5add6b7c-6e0a-4584-b0bb-c8333fb27ba8",
   "metadata": {},
   "source": [
    "Question 16:\n",
    "\n",
    "Indentation refers to the spaces at the beginning of a code line. Where in other programming languages the indentation in code is for readability only, the indentation in Python is very important. Python uses indentation to indicate a block of code."
   ]
  }
 ],
 "metadata": {
  "kernelspec": {
   "display_name": "Python 3 (ipykernel)",
   "language": "python",
   "name": "python3"
  },
  "language_info": {
   "codemirror_mode": {
    "name": "ipython",
    "version": 3
   },
   "file_extension": ".py",
   "mimetype": "text/x-python",
   "name": "python",
   "nbconvert_exporter": "python",
   "pygments_lexer": "ipython3",
   "version": "3.10.8"
  }
 },
 "nbformat": 4,
 "nbformat_minor": 5
}
